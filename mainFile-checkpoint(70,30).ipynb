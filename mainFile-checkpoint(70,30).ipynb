{
 "cells": [
  {
   "cell_type": "code",
   "execution_count": 1,
   "metadata": {},
   "outputs": [],
   "source": [
    "#IMPORTING LIBRARIES\n",
    "import sys\n",
    "import numpy as np \n",
    "import pandas as pd\n",
    "import matplotlib.pyplot as plt\n",
    "import seaborn as sns\n",
    "from sklearn.model_selection import train_test_split\n",
    "import warnings\n",
    "warnings.filterwarnings('ignore')\n",
    "import os\n",
    "from sklearn import *\n",
    "from sklearn.metrics import mean_squared_error\n",
    "from math import sqrt\n",
    "import math"
   ]
  },
  {
   "cell_type": "code",
   "execution_count": 2,
   "metadata": {},
   "outputs": [],
   "source": [
    "#READING THE DATASET\n",
    "Stress=pd.read_csv('stress_dataset.csv')"
   ]
  },
  {
   "cell_type": "code",
   "execution_count": 3,
   "metadata": {},
   "outputs": [
    {
     "data": {
      "text/plain": [
       "(916, 6)"
      ]
     },
     "execution_count": 3,
     "metadata": {},
     "output_type": "execute_result"
    }
   ],
   "source": [
    "#DATA ANALYSIS\n",
    "Stress.shape"
   ]
  },
  {
   "cell_type": "code",
   "execution_count": 4,
   "metadata": {},
   "outputs": [
    {
     "data": {
      "text/plain": [
       "age       int64\n",
       "sex       int64\n",
       "bp        int64\n",
       "hb        int64\n",
       "temp    float64\n",
       "num       int64\n",
       "dtype: object"
      ]
     },
     "execution_count": 4,
     "metadata": {},
     "output_type": "execute_result"
    }
   ],
   "source": [
    "Stress.dtypes"
   ]
  },
  {
   "cell_type": "code",
   "execution_count": 5,
   "metadata": {},
   "outputs": [
    {
     "data": {
      "text/plain": [
       "<bound method NDFrame.head of      age  sex   bp   hb  temp  num\n",
       "0     57    1  160  108  37.2    2\n",
       "1     57    1  120  129  37.2    1\n",
       "2     27    1  130  187  36.1    0\n",
       "3     31    0  130  172  36.1    0\n",
       "4     46    1  120  178  36.2    0\n",
       "5     52    0  140  160  38.3    3\n",
       "6     47    0  120  163  36.0    0\n",
       "7     53    1  130  147  37.2    2\n",
       "8     43    1  140  155  37.2    1\n",
       "9     47    1  140  148  36.3    0\n",
       "10    46    0  140  153  36.3    0\n",
       "11    46    1  130  142  37.2    2\n",
       "12    34    1  120  173  36.3    0\n",
       "13    42    1  172  162  36.3    0\n",
       "14    47    1  150  174  36.3    0\n",
       "15    38    1  110  168  37.2    1\n",
       "16    44    1  140  160  36.0    0\n",
       "17    38    0  130  139  36.0    0\n",
       "18    39    1  130  171  36.0    0\n",
       "19    54    1  110  144  36.7    0\n",
       "20    48    0  150  162  36.0    0\n",
       "21    48    1  120  160  36.0    1\n",
       "22    48    1  132  173  38.3    3\n",
       "23    50    1  130  132  38.3    4\n",
       "24    40    0  120  158  36.7    0\n",
       "25    48    0  120  172  36.2    0\n",
       "26    56    0  150  114  36.2    0\n",
       "27    33    1  150  171  36.2    0\n",
       "28    30    1  110  114  38.3    3\n",
       "29    59    0  140  151  36.2    0\n",
       "..   ...  ...  ...  ...   ...  ...\n",
       "886   43    1  124  122  37.2    1\n",
       "887   27    1  118  165  36.2    0\n",
       "888   57    1  140  122  38.3    3\n",
       "889   74    1  140   94  37.2    1\n",
       "890   53    1  130  140  36.0    0\n",
       "891   48    1  100  110  36.2    0\n",
       "892   51    1  190  150  38.3    4\n",
       "893   54    1  130  130  37.2    2\n",
       "894   48    1  160  113  38.3    3\n",
       "895   50    1  130  140  37.2    1\n",
       "896   47    1  122  100  37.2    1\n",
       "897   45    1  130  140  36.1    0\n",
       "898   45    1  120  127  37.2    1\n",
       "899   46    1  130   98  37.2    1\n",
       "900   47    1  130   96  36.1    0\n",
       "901   51    1  130  140  37.2    1\n",
       "902   51    1  120   98  38.3    3\n",
       "903   48    1  150  118  37.2    2\n",
       "904   74    1  155  112  37.2    2\n",
       "905   58    1  134  151  36.2    0\n",
       "906   41    0  114   96  36.0    0\n",
       "907   52    1  160  108  38.3    4\n",
       "908   43    1  144  128  38.3    3\n",
       "909   52    1  158  138  37.2    1\n",
       "910   36    1  134  126  37.2    2\n",
       "911   44    0  127  154  37.2    1\n",
       "912   52    1  130  140  36.0    0\n",
       "913   45    1  122  100  37.2    2\n",
       "914   48    1  130  140  36.0    0\n",
       "915   52    1  120   93  37.2    1\n",
       "\n",
       "[916 rows x 6 columns]>"
      ]
     },
     "execution_count": 5,
     "metadata": {},
     "output_type": "execute_result"
    }
   ],
   "source": [
    "Stress.head"
   ]
  },
  {
   "cell_type": "code",
   "execution_count": 6,
   "metadata": {},
   "outputs": [
    {
     "name": "stdout",
     "output_type": "stream",
     "text": [
      "<class 'pandas.core.frame.DataFrame'>\n",
      "RangeIndex: 916 entries, 0 to 915\n",
      "Data columns (total 6 columns):\n",
      "age     916 non-null int64\n",
      "sex     916 non-null int64\n",
      "bp      916 non-null int64\n",
      "hb      916 non-null int64\n",
      "temp    916 non-null float64\n",
      "num     916 non-null int64\n",
      "dtypes: float64(1), int64(5)\n",
      "memory usage: 43.0 KB\n"
     ]
    }
   ],
   "source": [
    "Stress.info()"
   ]
  },
  {
   "cell_type": "code",
   "execution_count": 7,
   "metadata": {},
   "outputs": [
    {
     "data": {
      "text/plain": [
       "count    916.000000\n",
       "mean       0.996725\n",
       "std        1.143760\n",
       "min        0.000000\n",
       "25%        0.000000\n",
       "50%        1.000000\n",
       "75%        2.000000\n",
       "max        4.000000\n",
       "Name: num, dtype: float64"
      ]
     },
     "execution_count": 7,
     "metadata": {},
     "output_type": "execute_result"
    }
   ],
   "source": [
    "Stress['num'].describe()"
   ]
  },
  {
   "cell_type": "code",
   "execution_count": 8,
   "metadata": {},
   "outputs": [
    {
     "data": {
      "text/plain": [
       "age     0\n",
       "sex     0\n",
       "bp      0\n",
       "hb      0\n",
       "temp    0\n",
       "num     0\n",
       "dtype: int64"
      ]
     },
     "execution_count": 8,
     "metadata": {},
     "output_type": "execute_result"
    }
   ],
   "source": [
    "\n",
    "#VISUALIZING MISSING VALUES\n",
    "Stress.isnull().sum()"
   ]
  },
  {
   "cell_type": "code",
   "execution_count": 9,
   "metadata": {},
   "outputs": [
    {
     "data": {
      "text/plain": [
       "num\n",
       "0    409\n",
       "1    264\n",
       "2    108\n",
       "3    107\n",
       "4     28\n",
       "dtype: int64"
      ]
     },
     "execution_count": 9,
     "metadata": {},
     "output_type": "execute_result"
    }
   ],
   "source": [
    "Stress.groupby('num').size()"
   ]
  },
  {
   "cell_type": "code",
   "execution_count": 10,
   "metadata": {},
   "outputs": [
    {
     "name": "stdout",
     "output_type": "stream",
     "text": [
      "Age    sex     bp    hb    temp\n",
      "[[ 57.    1.  160.  108.   37.2]\n",
      " [ 57.    1.  120.  129.   37.2]\n",
      " [ 27.    1.  130.  187.   36.1]\n",
      " ...\n",
      " [ 45.    1.  122.  100.   37.2]\n",
      " [ 48.    1.  130.  140.   36. ]\n",
      " [ 52.    1.  120.   93.   37.2]]\n"
     ]
    }
   ],
   "source": [
    "#Printing Independent variables\n",
    "print(\"Age    sex     bp    hb    temp\")\n",
    "x= Stress.iloc[:,:-1].values  \n",
    "print(x)"
   ]
  },
  {
   "cell_type": "code",
   "execution_count": 11,
   "metadata": {},
   "outputs": [
    {
     "data": {
      "image/png": "[encoded data removed]",
      "text/plain": [
       "<Figure size 576x648 with 6 Axes>"
      ]
     },
     "metadata": {
      "needs_background": "light"
     },
     "output_type": "display_data"
    }
   ],
   "source": [
    "#DATA VISUALIZATION\n",
    "Stress.hist(figsize = (8,9))\n",
    "plt.show()\n",
    "#num = stress level"
   ]
  },
  {
   "cell_type": "code",
   "execution_count": 12,
   "metadata": {},
   "outputs": [
    {
     "data": {
      "image/png": "[encoded data removed]",
      "text/plain": [
       "<Figure size 432x288 with 1 Axes>"
      ]
     },
     "metadata": {
      "needs_background": "light"
     },
     "output_type": "display_data"
    }
   ],
   "source": [
    "x = Stress.age\n",
    "y = Stress.bp\n",
    "plt.barh(x,y)\n",
    "plt.xlabel(\"bp\")\n",
    "plt.ylabel('age')\n",
    "plt.title('Horizontal Bar Plot')\n",
    "plt.show()"
   ]
  },
  {
   "cell_type": "code",
   "execution_count": 13,
   "metadata": {},
   "outputs": [
    {
     "data": {
      "image/png": "[encoded data removed]",
      "text/plain": [
       "<Figure size 576x432 with 1 Axes>"
      ]
     },
     "metadata": {
      "needs_background": "light"
     },
     "output_type": "display_data"
    }
   ],
   "source": [
    "#FINDING NO OF PEOPLE SUFFERING FROM STRESS\n",
    "# 0-No stress, 1-Very Low, 2-Low, 3-Moderate, 4-High  \n",
    "ax = Stress[['age','num']].groupby(['num']).sum().reset_index().plot(kind='bar', figsize=(8, 6),\n",
    "                                       legend = False, title =\"Stress prediction\", \n",
    "                                       color='orange', fontsize=12)\n",
    "ax.set_xlabel(\"Stress level\", fontsize=12)\n",
    "ax.set_ylabel(\"no of people\", fontsize=12)\n",
    "plt.show()"
   ]
  },
  {
   "cell_type": "code",
   "execution_count": 14,
   "metadata": {},
   "outputs": [
    {
     "data": {
      "text/plain": [
       "<seaborn.axisgrid.FacetGrid at 0x15e3005ea58>"
      ]
     },
     "execution_count": 14,
     "metadata": {},
     "output_type": "execute_result"
    },
    {
     "data": {
      "image/png": "[encoded data removed]",
      "text/plain": [
       "<Figure size 540x360 with 1 Axes>"
      ]
     },
     "metadata": {
      "needs_background": "light"
     },
     "output_type": "display_data"
    }
   ],
   "source": [
    "#FINDING RELATIONSHIP BETWEEN AGE AND STRESS ATTRIBUTES\n",
    "sns.factorplot(x='num',data=Stress,y='age',size=5,aspect=1.5)"
   ]
  },
  {
   "cell_type": "code",
   "execution_count": 15,
   "metadata": {},
   "outputs": [
    {
     "data": {
      "text/plain": [
       "<seaborn.axisgrid.FacetGrid at 0x15e303465c0>"
      ]
     },
     "execution_count": 15,
     "metadata": {},
     "output_type": "execute_result"
    },
    {
     "data": {
      "image/png": "[encoded data removed]",
      "text/plain": [
       "<Figure size 540x360 with 1 Axes>"
      ]
     },
     "metadata": {
      "needs_background": "light"
     },
     "output_type": "display_data"
    }
   ],
   "source": [
    "sns.factorplot(x='num',data=Stress,y='bp',size=5,aspect=1.5)"
   ]
  },
  {
   "cell_type": "code",
   "execution_count": 16,
   "metadata": {},
   "outputs": [
    {
     "data": {
      "text/plain": [
       "<seaborn.axisgrid.FacetGrid at 0x15e2fd105f8>"
      ]
     },
     "execution_count": 16,
     "metadata": {},
     "output_type": "execute_result"
    },
    {
     "data": {
      "image/png": "[encoded data removed]",
      "text/plain": [
       "<Figure size 540x360 with 1 Axes>"
      ]
     },
     "metadata": {
      "needs_background": "light"
     },
     "output_type": "display_data"
    }
   ],
   "source": [
    "sns.factorplot(x='sex',data=Stress,y='num',size=5,aspect=1.5)"
   ]
  },
  {
   "cell_type": "code",
   "execution_count": 17,
   "metadata": {},
   "outputs": [
    {
     "data": {
      "text/plain": [
       "<seaborn.axisgrid.FacetGrid at 0x15e303cb358>"
      ]
     },
     "execution_count": 17,
     "metadata": {},
     "output_type": "execute_result"
    },
    {
     "data": {
      "image/png": "[encoded data removed]",
      "text/plain": [
       "<Figure size 540x360 with 1 Axes>"
      ]
     },
     "metadata": {
      "needs_background": "light"
     },
     "output_type": "display_data"
    }
   ],
   "source": [
    "sns.factorplot(x='num',data=Stress,y='temp',size=5,aspect=1.5)"
   ]
  },
  {
   "cell_type": "code",
   "execution_count": 18,
   "metadata": {},
   "outputs": [
    {
     "data": {
      "image/png": "[encoded data removed]",
      "text/plain": [
       "<Figure size 1440x720 with 2 Axes>"
      ]
     },
     "metadata": {
      "needs_background": "light"
     },
     "output_type": "display_data"
    }
   ],
   "source": [
    "#CORRELATION MATRIX\n",
    "correMtr=Stress.corr()\n",
    "mask=np.array(correMtr)\n",
    "mask[np.tril_indices_from(mask)]=False\n",
    "fig,ax=plt.subplots(figsize=(20,10))\n",
    "sns.heatmap(correMtr,mask=mask,vmax=0.8,square=True,annot=True,ax=ax)\n",
    "ax.set_title('Correlation matrix of attributes')\n",
    "plt.show()"
   ]
  },
  {
   "cell_type": "code",
   "execution_count": 19,
   "metadata": {},
   "outputs": [],
   "source": [
    "#Spiltting the data into training and testing data\n",
    "from sklearn import preprocessing,metrics,linear_model\n",
    "from sklearn.model_selection import cross_val_score,cross_val_predict,train_test_split\n",
    "\n",
    "X_train,X_test,y_train,y_test=train_test_split(Stress.iloc[:,0:-1],Stress.iloc[:,-1],test_size=0.3, random_state=3)\n"
   ]
  },
  {
   "cell_type": "code",
   "execution_count": 20,
   "metadata": {},
   "outputs": [],
   "source": [
    "def rmsle(y_pred, y_test) : \n",
    "    assert len(y_test) == len(y_pred)\n",
    "    return np.sqrt(np.mean((np.log(1+y_pred) - np.log(1+y_test))**2))"
   ]
  },
  {
   "cell_type": "code",
   "execution_count": 21,
   "metadata": {},
   "outputs": [],
   "source": [
    "from sklearn.preprocessing import StandardScaler\n",
    "sc_x = StandardScaler()\n",
    "sc_y = StandardScaler()\n",
    "x_train = sc_x.fit_transform(X_train)\n",
    "x_test = sc_x.transform(X_test)"
   ]
  },
  {
   "cell_type": "code",
   "execution_count": 22,
   "metadata": {},
   "outputs": [],
   "source": [
    "import pickle\n",
    "pickle.dump(sc_x, open(\"scalerX\", \"wb\"))"
   ]
  },
  {
   "cell_type": "code",
   "execution_count": 23,
   "metadata": {},
   "outputs": [],
   "source": [
    "X_scaler = StandardScaler().fit(X_train)\n",
    "X_train_scaled = X_scaler.transform(X_train)\n",
    "X_test_scaled = X_scaler.transform(X_test)"
   ]
  },
  {
   "cell_type": "code",
   "execution_count": 24,
   "metadata": {},
   "outputs": [],
   "source": [
    "#LINEAR REGRESSION ALGORITHM\n",
    "from sklearn import linear_model\n",
    "lr_model = linear_model.LinearRegression()\n",
    "lr_model.fit(X_train, y_train)\n",
    "y_pred_train = lr_model.predict(X_train)\n",
    "y_pred_test = lr_model.predict(X_test)"
   ]
  },
  {
   "cell_type": "code",
   "execution_count": 25,
   "metadata": {},
   "outputs": [
    {
     "name": "stdout",
     "output_type": "stream",
     "text": [
      "Root mean square error : 0.9852220263783191\n",
      "Mean absolute error : 0.7941638174238518\n",
      "RMSLE : 0.47024479680006565\n"
     ]
    }
   ],
   "source": [
    "#Root Mean Square error\n",
    "rmse = math.sqrt(metrics.mean_squared_error(y_train,y_pred_train))\n",
    "print('Root mean square error :',rmse)\n",
    "#Mean absolute error\n",
    "mae=metrics.mean_absolute_error(y_test,y_pred_test)\n",
    "print('Mean absolute error :',mae)\n",
    "\n",
    "from sklearn.metrics import mean_squared_log_error\n",
    "from math import sqrt\n",
    "print('RMSLE :',rmsle(y_pred_test,y_test))"
   ]
  },
  {
   "cell_type": "code",
   "execution_count": 26,
   "metadata": {},
   "outputs": [],
   "source": [
    "#POLYNOMIAL REGRESSION\n",
    "Stress_1 = Stress.copy()\n",
    "\n",
    "X_train,X_test,y_train,y_test=train_test_split(Stress_1.iloc[:,0:-1],Stress_1.iloc[:,-1],test_size=0.3, random_state=42)\n",
    "\n",
    "\n",
    "from sklearn.preprocessing import PolynomialFeatures\n",
    "poly_feat = PolynomialFeatures(2)\n",
    "X_train = poly_feat.fit_transform(X_train)\n",
    "X_test = poly_feat.fit_transform(X_test)"
   ]
  },
  {
   "cell_type": "code",
   "execution_count": 27,
   "metadata": {},
   "outputs": [],
   "source": [
    "from sklearn import linear_model\n",
    "lr_model= linear_model.LinearRegression()\n",
    "lr_model.fit(X_train, y_train)\n",
    "y_pred = lr_model.predict(X_test)"
   ]
  },
  {
   "cell_type": "code",
   "execution_count": 28,
   "metadata": {},
   "outputs": [
    {
     "name": "stdout",
     "output_type": "stream",
     "text": [
      "Root Mean squared error : 0.53\n",
      "Mean absolute error : 0.34\n",
      "RMSLE : 0.20 \n"
     ]
    }
   ],
   "source": [
    "print(\"Root Mean squared error : %.2f\" \n",
    "      % sqrt(mean_squared_error(y_test, y_pred)))\n",
    "mae=metrics.mean_absolute_error(y_test,y_pred)\n",
    "print(\"Mean absolute error : %.2f\"%mae)\n",
    "print(\"RMSLE : %.2f \"%rmsle(y_pred,y_test))"
   ]
  },
  {
   "cell_type": "code",
   "execution_count": 29,
   "metadata": {},
   "outputs": [],
   "source": [
    "#DECISION TREE\n",
    "from sklearn.tree import DecisionTreeRegressor\n",
    "dtr=DecisionTreeRegressor(min_samples_split=2,max_leaf_nodes=10)"
   ]
  },
  {
   "cell_type": "code",
   "execution_count": 30,
   "metadata": {},
   "outputs": [
    {
     "data": {
      "text/plain": [
       "DecisionTreeRegressor(criterion='mse', max_depth=None, max_features=None,\n",
       "           max_leaf_nodes=10, min_impurity_decrease=0.0,\n",
       "           min_impurity_split=None, min_samples_leaf=1,\n",
       "           min_samples_split=2, min_weight_fraction_leaf=0.0,\n",
       "           presort=False, random_state=None, splitter='best')"
      ]
     },
     "execution_count": 30,
     "metadata": {},
     "output_type": "execute_result"
    }
   ],
   "source": [
    "dtr.fit(X_train,y_train)"
   ]
  },
  {
   "cell_type": "code",
   "execution_count": 31,
   "metadata": {},
   "outputs": [
    {
     "name": "stdout",
     "output_type": "stream",
     "text": [
      "Root mean square error : 0.39\n",
      "Mean absolute error : 0.20\n",
      "RMSLE : 0.15 \n"
     ]
    }
   ],
   "source": [
    "dtr_pred=dtr.predict(X_test)\n",
    "rmse=math.sqrt(metrics.mean_squared_error(y_test,dtr_pred))\n",
    "mae=metrics.mean_absolute_error(y_test,dtr_pred)\n",
    "print(\"Root mean square error : %.2f\"%rmse)\n",
    "print(\"Mean absolute error : %.2f\"%mae)\n",
    "print(\"RMSLE : %.2f \"%rmsle(dtr_pred,y_test))"
   ]
  },
  {
   "cell_type": "code",
   "execution_count": 32,
   "metadata": {},
   "outputs": [],
   "source": [
    "#RANDOM FOREST\n",
    "Stress1= Stress.copy()\n",
    "from sklearn.model_selection import train_test_split\n",
    "X_train,X_test,y_train,y_test=train_test_split(Stress1.iloc[:,0:-1],Stress1.iloc[:,-1],test_size=0.3, random_state=42)"
   ]
  },
  {
   "cell_type": "code",
   "execution_count": 33,
   "metadata": {},
   "outputs": [],
   "source": [
    "from sklearn.ensemble import RandomForestRegressor\n",
    "regressor = RandomForestRegressor(n_estimators = 300, max_features = 'auto') \n",
    "regressor.fit(X_train,y_train)\n",
    "y_pred = regressor.predict(X_test) "
   ]
  },
  {
   "cell_type": "code",
   "execution_count": 34,
   "metadata": {},
   "outputs": [
    {
     "name": "stdout",
     "output_type": "stream",
     "text": [
      "Root Mean squared error : 0.41\n",
      "Mean absolute error : 0.21\n",
      "RMSLE : 0.16 \n"
     ]
    }
   ],
   "source": [
    "print(\"Root Mean squared error : %.2f\"% sqrt(mean_squared_error(y_test, y_pred)))\n",
    "mae=metrics.mean_absolute_error(y_test,y_pred)\n",
    "print(\"Mean absolute error : %.2f\"%mae)\n",
    "print(\"RMSLE : %.2f \"%rmsle(y_pred,y_test))"
   ]
  },
  {
   "cell_type": "code",
   "execution_count": 32,
   "metadata": {},
   "outputs": [
    {
     "data": {
      "text/plain": [
       "['model.sav']"
      ]
     },
     "execution_count": 32,
     "metadata": {},
     "output_type": "execute_result"
    }
   ],
   "source": [
    "import joblib\n",
    "filename = 'model.sav'\n",
    "joblib.dump(dtr, filename)"
   ]
  },
  {
   "cell_type": "code",
   "execution_count": 33,
   "metadata": {},
   "outputs": [
    {
     "name": "stdout",
     "output_type": "stream",
     "text": [
      "The scikit-learn version is 0.24.2.\n"
     ]
    }
   ],
   "source": [
    "import sklearn\n",
    "print('The scikit-learn version is {}.'.format(sklearn.__version__))"
   ]
  },
  {
   "cell_type": "code",
   "execution_count": null,
   "metadata": {},
   "outputs": [],
   "source": []
  }
 ],
 "metadata": {
  "kernelspec": {
   "display_name": "Python 3",
   "language": "python",
   "name": "python3"
  },
  "language_info": {
   "codemirror_mode": {
    "name": "ipython",
    "version": 3
   },
   "file_extension": ".py",
   "mimetype": "text/x-python",
   "name": "python",
   "nbconvert_exporter": "python",
   "pygments_lexer": "ipython3",
   "version": "3.7.1"
  }
 },
 "nbformat": 4,
 "nbformat_minor": 5
}
